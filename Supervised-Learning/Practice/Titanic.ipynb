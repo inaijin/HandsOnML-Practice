{
 "cells": [
  {
   "cell_type": "markdown",
   "id": "acdf6efa",
   "metadata": {},
   "source": [
    "## Titanic Dataset For Kaggle Competition"
   ]
  },
  {
   "cell_type": "code",
   "execution_count": 1,
   "id": "7617e383",
   "metadata": {},
   "outputs": [],
   "source": [
    "import os\n",
    "import sklearn\n",
    "import zipfile\n",
    "import numpy as np\n",
    "import pandas as pd\n",
    "import matplotlib.pyplot as plt\n",
    "\n",
    "from kaggle.api.kaggle_api_extended import KaggleApi"
   ]
  },
  {
   "cell_type": "code",
   "execution_count": 2,
   "id": "f70241eb",
   "metadata": {},
   "outputs": [],
   "source": [
    "plt.rc('font', size=14)\n",
    "plt.rc('axes', labelsize=14, titlesize=14)\n",
    "plt.rc('legend', fontsize=14)\n",
    "plt.rc('xtick', labelsize=10)\n",
    "plt.rc('ytick', labelsize=10)"
   ]
  },
  {
   "cell_type": "markdown",
   "id": "16f993ae",
   "metadata": {},
   "source": [
    "### Run The Below Two Cells To Download The Titanic Dataset From Kaggle (Requires API Key)"
   ]
  },
  {
   "cell_type": "code",
   "execution_count": 3,
   "id": "b2464e95",
   "metadata": {},
   "outputs": [],
   "source": [
    "# !mkdir -p ~/.kaggle\n",
    "# !mv kaggle.json ~/.kaggle/\n",
    "# !chmod 600 ~/.kaggle/kaggle.json"
   ]
  },
  {
   "cell_type": "code",
   "execution_count": 4,
   "id": "a5b29f8f",
   "metadata": {},
   "outputs": [],
   "source": [
    "# api = KaggleApi()\n",
    "# api.authenticate()\n",
    "\n",
    "# api.competition_download_files(\"titanic\", path=\".\", quiet=False)\n",
    "\n",
    "# # Unzip it\n",
    "# with zipfile.ZipFile(\"titanic.zip\", \"r\") as zip_ref:\n",
    "#     zip_ref.extractall(\"titanic_data\")\n",
    "\n",
    "# # Remove the zip file\n",
    "# os.remove(\"titanic.zip\")"
   ]
  },
  {
   "cell_type": "code",
   "execution_count": null,
   "id": "d924109b",
   "metadata": {},
   "outputs": [],
   "source": []
  }
 ],
 "metadata": {
  "kernelspec": {
   "display_name": "Python 3",
   "language": "python",
   "name": "python3"
  },
  "language_info": {
   "codemirror_mode": {
    "name": "ipython",
    "version": 3
   },
   "file_extension": ".py",
   "mimetype": "text/x-python",
   "name": "python",
   "nbconvert_exporter": "python",
   "pygments_lexer": "ipython3",
   "version": "3.12.2"
  }
 },
 "nbformat": 4,
 "nbformat_minor": 5
}
