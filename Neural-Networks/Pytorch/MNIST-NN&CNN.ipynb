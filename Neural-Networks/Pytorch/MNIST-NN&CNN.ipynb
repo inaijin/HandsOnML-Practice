{
 "cells": [
  {
   "cell_type": "markdown",
   "id": "5c97e87c",
   "metadata": {},
   "source": [
    "# Using pytorch to do MINST once using NN and once using CNN"
   ]
  },
  {
   "cell_type": "code",
   "execution_count": 6,
   "id": "4212fc0b",
   "metadata": {},
   "outputs": [],
   "source": [
    "import torch\n",
    "import torchvision\n",
    "import numpy as np\n",
    "import torch.nn as nn\n",
    "import matplotlib.pyplot as plt\n",
    "import torchvision.transforms as transforms"
   ]
  },
  {
   "cell_type": "code",
   "execution_count": 2,
   "id": "05e321e9",
   "metadata": {},
   "outputs": [],
   "source": [
    "plt.rc('font', size=14)\n",
    "plt.rc('axes', labelsize=14, titlesize=14)\n",
    "plt.rc('legend', fontsize=14)\n",
    "plt.rc('xtick', labelsize=10)\n",
    "plt.rc('ytick', labelsize=10)"
   ]
  },
  {
   "cell_type": "code",
   "execution_count": 3,
   "id": "61015248",
   "metadata": {},
   "outputs": [
    {
     "name": "stdout",
     "output_type": "stream",
     "text": [
      "mps\n"
     ]
    },
    {
     "data": {
      "image/png": "[encoded data removed]",
      "text/plain": [
       "<Figure size 640x480 with 6 Axes>"
      ]
     },
     "metadata": {},
     "output_type": "display_data"
    }
   ],
   "source": [
    "# Device configuration (MPS FOR MACBOOK)\n",
    "device = torch.device(\"mps\" if torch.backends.mps.is_available() else \"cpu\")\n",
    "print(device)\n",
    "\n",
    "# Hyper-parameters \n",
    "input_size = 784 # 28x28\n",
    "hidden_size = 500\n",
    "num_classes = 10\n",
    "num_epochs = 10\n",
    "batch_size = 100\n",
    "learning_rate = 0.001\n",
    "\n",
    "# MNIST dataset \n",
    "train_dataset = torchvision.datasets.MNIST(root='./data',\n",
    "                                           train=True,\n",
    "                                           transform=transforms.ToTensor(),\n",
    "                                           download=True)\n",
    "\n",
    "test_dataset = torchvision.datasets.MNIST(root='./data',\n",
    "                                          train=False,\n",
    "                                          transform=transforms.ToTensor(),\n",
    "                                          download=True)\n",
    "\n",
    "# Data loader\n",
    "train_loader = torch.utils.data.DataLoader(dataset=train_dataset, \n",
    "                                           batch_size=batch_size, \n",
    "                                           shuffle=True)\n",
    "\n",
    "test_loader = torch.utils.data.DataLoader(dataset=test_dataset, \n",
    "                                          batch_size=batch_size, \n",
    "                                          shuffle=False)\n",
    "\n",
    "examples = iter(test_loader)\n",
    "example_data, example_targets = next(examples)\n",
    "\n",
    "for i in range(6):\n",
    "    plt.subplot(2,3,i+1)\n",
    "    plt.xticks([])  # Remove x-axis tick labels\n",
    "    plt.yticks([])  # Remove y-axis tick labels\n",
    "    plt.imshow(example_data[i][0], cmap='gray')\n",
    "plt.show()"
   ]
  },
  {
   "cell_type": "code",
   "execution_count": 4,
   "id": "85e59fc7",
   "metadata": {},
   "outputs": [
    {
     "name": "stdout",
     "output_type": "stream",
     "text": [
      "Epoch [1/10], Step [100/600], Loss: 0.4634\n",
      "Epoch [1/10], Step [200/600], Loss: 0.2579\n",
      "Epoch [1/10], Step [300/600], Loss: 0.1575\n",
      "Epoch [1/10], Step [400/600], Loss: 0.1813\n",
      "Epoch [1/10], Step [500/600], Loss: 0.1774\n",
      "Epoch [1/10], Step [600/600], Loss: 0.2076\n",
      "Epoch [2/10], Step [100/600], Loss: 0.0687\n",
      "Epoch [2/10], Step [200/600], Loss: 0.1547\n",
      "Epoch [2/10], Step [300/600], Loss: 0.1326\n",
      "Epoch [2/10], Step [400/600], Loss: 0.0860\n",
      "Epoch [2/10], Step [500/600], Loss: 0.1096\n",
      "Epoch [2/10], Step [600/600], Loss: 0.1763\n",
      "Epoch [3/10], Step [100/600], Loss: 0.1232\n",
      "Epoch [3/10], Step [200/600], Loss: 0.0407\n",
      "Epoch [3/10], Step [300/600], Loss: 0.0581\n",
      "Epoch [3/10], Step [400/600], Loss: 0.0325\n",
      "Epoch [3/10], Step [500/600], Loss: 0.0420\n",
      "Epoch [3/10], Step [600/600], Loss: 0.0718\n",
      "Epoch [4/10], Step [100/600], Loss: 0.0330\n",
      "Epoch [4/10], Step [200/600], Loss: 0.0208\n",
      "Epoch [4/10], Step [300/600], Loss: 0.0394\n",
      "Epoch [4/10], Step [400/600], Loss: 0.0219\n",
      "Epoch [4/10], Step [500/600], Loss: 0.0270\n",
      "Epoch [4/10], Step [600/600], Loss: 0.0960\n",
      "Epoch [5/10], Step [100/600], Loss: 0.0168\n",
      "Epoch [5/10], Step [200/600], Loss: 0.0344\n",
      "Epoch [5/10], Step [300/600], Loss: 0.0134\n",
      "Epoch [5/10], Step [400/600], Loss: 0.0447\n",
      "Epoch [5/10], Step [500/600], Loss: 0.0261\n",
      "Epoch [5/10], Step [600/600], Loss: 0.0467\n",
      "Epoch [6/10], Step [100/600], Loss: 0.0311\n",
      "Epoch [6/10], Step [200/600], Loss: 0.0175\n",
      "Epoch [6/10], Step [300/600], Loss: 0.0298\n",
      "Epoch [6/10], Step [400/600], Loss: 0.0369\n",
      "Epoch [6/10], Step [500/600], Loss: 0.0141\n",
      "Epoch [6/10], Step [600/600], Loss: 0.0093\n",
      "Epoch [7/10], Step [100/600], Loss: 0.0277\n",
      "Epoch [7/10], Step [200/600], Loss: 0.0481\n",
      "Epoch [7/10], Step [300/600], Loss: 0.0160\n",
      "Epoch [7/10], Step [400/600], Loss: 0.0050\n",
      "Epoch [7/10], Step [500/600], Loss: 0.0072\n",
      "Epoch [7/10], Step [600/600], Loss: 0.0015\n",
      "Epoch [8/10], Step [100/600], Loss: 0.0114\n",
      "Epoch [8/10], Step [200/600], Loss: 0.0048\n",
      "Epoch [8/10], Step [300/600], Loss: 0.0161\n",
      "Epoch [8/10], Step [400/600], Loss: 0.0316\n",
      "Epoch [8/10], Step [500/600], Loss: 0.0070\n",
      "Epoch [8/10], Step [600/600], Loss: 0.0099\n",
      "Epoch [9/10], Step [100/600], Loss: 0.0228\n",
      "Epoch [9/10], Step [200/600], Loss: 0.0139\n",
      "Epoch [9/10], Step [300/600], Loss: 0.0199\n",
      "Epoch [9/10], Step [400/600], Loss: 0.0070\n",
      "Epoch [9/10], Step [500/600], Loss: 0.0096\n",
      "Epoch [9/10], Step [600/600], Loss: 0.0153\n",
      "Epoch [10/10], Step [100/600], Loss: 0.0052\n",
      "Epoch [10/10], Step [200/600], Loss: 0.0030\n",
      "Epoch [10/10], Step [300/600], Loss: 0.0041\n",
      "Epoch [10/10], Step [400/600], Loss: 0.0060\n",
      "Epoch [10/10], Step [500/600], Loss: 0.0087\n",
      "Epoch [10/10], Step [600/600], Loss: 0.0121\n"
     ]
    }
   ],
   "source": [
    "class NeuralNet(nn.Module):\n",
    "    def __init__(self, input_size, hidden_size, num_classes):\n",
    "        super(NeuralNet, self).__init__()\n",
    "        self.l1 = nn.Linear(input_size, hidden_size)\n",
    "        self.l2 = nn.Linear(hidden_size, num_classes)\n",
    "\n",
    "    def forward(self, x):\n",
    "        out = self.l1(x)\n",
    "        out = nn.functional.relu(out)\n",
    "        out = self.l2(out)\n",
    "        # no activation and no softmax at the end\n",
    "        return out\n",
    "\n",
    "model = NeuralNet(input_size, hidden_size, num_classes).to(device)\n",
    "\n",
    "# Loss and optimizer\n",
    "criterion = nn.CrossEntropyLoss()\n",
    "optimizer = torch.optim.NAdam(model.parameters(), lr=learning_rate)\n",
    "\n",
    "# Train the model\n",
    "n_total_steps = len(train_loader)\n",
    "for epoch in range(num_epochs):\n",
    "    for i, (images, labels) in enumerate(train_loader):  \n",
    "        # origin shape: [100, 1, 28, 28]\n",
    "        # resized: [100, 784]\n",
    "        images = images.reshape(-1, 28*28).to(device)\n",
    "        labels = labels.to(device)\n",
    "\n",
    "        outputs = model(images)\n",
    "        loss = criterion(outputs, labels)\n",
    "\n",
    "        loss.backward()\n",
    "        optimizer.step()\n",
    "        optimizer.zero_grad()\n",
    "\n",
    "        if (i+1) % 100 == 0:\n",
    "            print (f'Epoch [{epoch+1}/{num_epochs}], Step [{i+1}/{n_total_steps}], Loss: {loss.item():.4f}')"
   ]
  },
  {
   "cell_type": "code",
   "execution_count": 5,
   "id": "cf36b44b",
   "metadata": {},
   "outputs": [
    {
     "name": "stdout",
     "output_type": "stream",
     "text": [
      "Accuracy of the network on the 10000 test images: 97.89999999999999 %\n"
     ]
    }
   ],
   "source": [
    "with torch.no_grad():\n",
    "    n_correct = 0\n",
    "    n_samples = len(test_loader.dataset)\n",
    "\n",
    "    for images, labels in test_loader:\n",
    "        images = images.reshape(-1, 28*28).to(device)\n",
    "        labels = labels.to(device)\n",
    "\n",
    "        outputs = model(images)\n",
    "\n",
    "        _, predicted = torch.max(outputs, 1)\n",
    "        n_correct += (predicted == labels).sum().item()\n",
    "\n",
    "    acc = n_correct / n_samples\n",
    "    print(f'Accuracy of the network on the {n_samples} test images: {100*acc} %')"
   ]
  },
  {
   "cell_type": "code",
   "execution_count": null,
   "id": "e8d01ef7",
   "metadata": {},
   "outputs": [],
   "source": [
    "\n",
    "\n",
    "# Device configuration\n",
    "device = torch.device('cuda' if torch.cuda.is_available() else 'cpu')\n",
    "\n",
    "# Hyper-parameters \n",
    "num_epochs = 10\n",
    "batch_size = 32\n",
    "learning_rate = 0.001\n",
    "\n",
    "# dataset has PILImage images of range [0, 1]. \n",
    "# We transform them to Tensors of normalized range [-1, 1]\n",
    "transform = transforms.Compose(\n",
    "    [transforms.ToTensor(),\n",
    "     transforms.Normalize((0.5, 0.5, 0.5), (0.5, 0.5, 0.5))])\n",
    "\n",
    "# CIFAR10: 60000 32x32 color images in 10 classes, with 6000 images per class\n",
    "train_dataset = torchvision.datasets.CIFAR10(root='./data', train=True,\n",
    "                                        download=True, transform=transform)\n",
    "\n",
    "test_dataset = torchvision.datasets.CIFAR10(root='./data', train=False,\n",
    "                                       download=True, transform=transform)\n",
    "\n",
    "train_loader = torch.utils.data.DataLoader(train_dataset, batch_size=batch_size,\n",
    "                                          shuffle=True)\n",
    "\n",
    "test_loader = torch.utils.data.DataLoader(test_dataset, batch_size=batch_size,\n",
    "                                         shuffle=False)\n",
    "\n",
    "classes = ('plane', 'car', 'bird', 'cat',\n",
    "           'deer', 'dog', 'frog', 'horse', 'ship', 'truck')\n",
    "\n",
    "def imshow(imgs):\n",
    "    imgs = imgs / 2 + 0.5   # unnormalize\n",
    "    npimgs = imgs.numpy()\n",
    "    plt.imshow(np.transpose(npimgs, (1, 2, 0)))\n",
    "    plt.show()\n",
    "\n",
    "# one batch of random training images\n",
    "dataiter = iter(train_loader)\n",
    "images, labels = dataiter.next()\n",
    "img_grid = torchvision.utils.make_grid(images[0:25], nrow=5)\n",
    "imshow(img_grid)"
   ]
  }
 ],
 "metadata": {
  "kernelspec": {
   "display_name": "3.12.2",
   "language": "python",
   "name": "python3"
  },
  "language_info": {
   "codemirror_mode": {
    "name": "ipython",
    "version": 3
   },
   "file_extension": ".py",
   "mimetype": "text/x-python",
   "name": "python",
   "nbconvert_exporter": "python",
   "pygments_lexer": "ipython3",
   "version": "3.12.2"
  }
 },
 "nbformat": 4,
 "nbformat_minor": 5
}
